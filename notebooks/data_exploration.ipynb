{
 "cells": [
  {
   "cell_type": "code",
   "execution_count": null,
   "id": "8484ae54-cac5-4b56-8a82-eb47f5841b93",
   "metadata": {
    "tags": []
   },
   "outputs": [],
   "source": [
    "import matplotlib.pyplot as plt\n",
    "import numpy as np\n",
    "import pandas as pd\n",
    "from pyprojroot import here\n",
    "import seaborn as sns\n",
    "import torch\n",
    "\n",
    "from data import load, Dream\n",
    "from models.utils import numpify\n",
    "\n",
    "device = torch.device(f\"cuda\") if torch.cuda.is_available() else torch.device(\"cpu\")"
   ]
  },
  {
   "cell_type": "code",
   "execution_count": null,
   "id": "eaa104ec-418b-4563-ac5b-7d1c35eb643d",
   "metadata": {
    "tags": []
   },
   "outputs": [],
   "source": [
    "# train and validation\n",
    "tr_cached = \"train_dev.pt\" if device.type == \"cpu\" else \"train.pt\"\n",
    "tr = load(\"train_sequences.txt\", tr_cached, Dream, path=here(\"data/dream\"))\n",
    "\n",
    "# test (unlabelled)\n",
    "te = load(\"test_sequences.txt\", \"test.pt\", Dream, path=here(\"data/dream\"))"
   ]
  },
  {
   "cell_type": "code",
   "execution_count": null,
   "id": "3cfd6fda-091a-4cef-884d-0fe282a028e1",
   "metadata": {
    "tags": []
   },
   "outputs": [],
   "source": [
    "def plot_nt_freq(obj, **plt_kwargs):\n",
    "\n",
    "    df = pd.DataFrame(\n",
    "        obj.sequences.sum(axis=0).T / len(obj), columns=[\"A\", \"C\", \"T\", \"G\"]\n",
    "    )\n",
    "    df[\"Position\"] = list(range(80))\n",
    "    df = df.melt(\"Position\", var_name=\"Base\", value_name=\"Frequency\")\n",
    "\n",
    "    g = sns.lineplot(x=\"Position\", y=\"Frequency\", hue=\"Base\", data=df, **plt_kwargs)\n",
    "    g.axis(ymin=0.14, ymax=0.33, xmin=0, xmax=79)\n",
    "    g.set_title(\"Test\" if obj == te else \"Train\")\n",
    "\n",
    "    return g\n",
    "\n",
    "\n",
    "fig, ax = plt.subplots(1, 2, figsize=(15, 6))\n",
    "fig.suptitle(\"Nucleotide frequencies\", fontsize=16)\n",
    "plot_nt_freq(tr, ax=ax[0])\n",
    "plot_nt_freq(te, ax=ax[1])"
   ]
  },
  {
   "cell_type": "code",
   "execution_count": null,
   "id": "997c7c34-33a7-41d4-93b2-bf36eab95099",
   "metadata": {
    "tags": []
   },
   "outputs": [],
   "source": [
    "def plot_na(obj, **plt_kwargs):\n",
    "    missing = len(obj) - obj.sequences.sum(axis=(0, 1))\n",
    "\n",
    "    g = sns.lineplot(x=list(range(80)), y=missing + 0.99, **plt_kwargs)\n",
    "    g.set(yscale=\"log\")\n",
    "    g.set_title(\"Test\" if obj == te else \"Train\")\n",
    "    g.axis(ymin=0.9, ymax=2e6)\n",
    "    g.set(xlabel=\"Position\", ylabel=\"Number of samples\")\n",
    "\n",
    "    return g\n",
    "\n",
    "\n",
    "plt.rcParams[\"figure.figsize\"] = 15, 6\n",
    "fig, ax = plt.subplots(1, 2)\n",
    "fig.suptitle(\"Number of missing values\", fontsize=16)\n",
    "plot_na(tr, ax=ax[0])\n",
    "plot_na(te, ax=ax[1])"
   ]
  },
  {
   "cell_type": "code",
   "execution_count": null,
   "id": "44561dbd-fb17-406f-8ce1-5c81243b317f",
   "metadata": {
    "tags": []
   },
   "outputs": [],
   "source": [
    "df = pd.DataFrame(\n",
    "    {\n",
    "        \"n_missing_vals\": numpify(80 - tr.sequences.sum(axis=(1, 2))),\n",
    "        \"expression\": numpify(tr.expression).flatten(),\n",
    "    }\n",
    ")\n",
    "\n",
    "sns.scatterplot(x=\"n_missing_vals\", y=\"expression\", data=df)"
   ]
  },
  {
   "cell_type": "code",
   "execution_count": null,
   "id": "ad0f7486-7035-4f05-ad8e-ebffa2909afa",
   "metadata": {
    "tags": []
   },
   "outputs": [],
   "source": [
    "g = sns.histplot(x=numpify(tr.expression).flatten())\n",
    "g.set(yscale=\"log\")\n",
    "g.set(xlabel=\"Expression\")\n",
    "g.axis(xmin=-0.1, xmax=17.1)"
   ]
  },
  {
   "cell_type": "code",
   "execution_count": null,
   "id": "0cebb103-84ca-455f-b41d-b32906fc83ff",
   "metadata": {
    "tags": []
   },
   "outputs": [],
   "source": [
    "print(\"Min expression:\", tr.expression.min().numpy())\n",
    "print(\"Mean expression:\", tr.expression.mean().numpy())\n",
    "print(\"Median expression:\", tr.expression.median().numpy())\n",
    "print(\"Max expression:\", tr.expression.max().numpy())"
   ]
  },
  {
   "cell_type": "code",
   "execution_count": null,
   "id": "3d6acb72-0519-4cfb-a5df-0ae320e670d9",
   "metadata": {
    "tags": []
   },
   "outputs": [],
   "source": [
    "no_expression = Dream([\"\"], 0)\n",
    "no_expression.sequences = tr.sequences[tr.expression == 0, :]\n",
    "no_expression.expression = tr.expression[tr.expression == 0]\n",
    "\n",
    "df = pd.DataFrame(\n",
    "    tr.sequences[tr.expression == 0, :].sum(axis=0).T / sum(tr.expression == 0),\n",
    "    columns=[\"A\", \"C\", \"T\", \"G\"],\n",
    ")\n",
    "df[\"Position\"] = list(range(80))\n",
    "df = df.melt(\"Position\", var_name=\"Base\", value_name=\"Frequency\")\n",
    "\n",
    "g = sns.lineplot(x=\"Position\", y=\"Frequency\", hue=\"Base\", data=df)\n",
    "g.axis(xmin=0, xmax=79)\n",
    "g.set_title(\n",
    "    f\"Base frequencies in {sum(tr.expression == 0)} 0-expression sequences\", fontsize=16\n",
    ")"
   ]
  },
  {
   "cell_type": "code",
   "execution_count": null,
   "id": "de9ac4cf-6b7e-48fa-9418-d0444485bdcd",
   "metadata": {
    "tags": []
   },
   "outputs": [],
   "source": [
    "decimals, _ = np.modf(numpify(tr.expression).flatten())\n",
    "g = sns.histplot(x=decimals)\n",
    "g.set(yscale=\"log\")\n",
    "g.set(xlabel=\"Decimals\")\n",
    "g.axis(xmin=-0.01, xmax=1.01)"
   ]
  },
  {
   "cell_type": "code",
   "execution_count": null,
   "id": "d3e05271-13cb-419b-be16-e27935d1c5f2",
   "metadata": {},
   "outputs": [],
   "source": [
    "# top nubbers\n",
    "u, counts = np.unique(decimals[decimals != 0], return_counts=True)\n",
    "counts_sort_ind = np.argsort(-counts)\n",
    "\n",
    "u[counts_sort_ind][:10]"
   ]
  }
 ],
 "metadata": {
  "kernelspec": {
   "display_name": "Python 3 (ipykernel)",
   "language": "python",
   "name": "python3"
  },
  "language_info": {
   "codemirror_mode": {
    "name": "ipython",
    "version": 3
   },
   "file_extension": ".py",
   "mimetype": "text/x-python",
   "name": "python",
   "nbconvert_exporter": "python",
   "pygments_lexer": "ipython3",
   "version": "3.10.4"
  }
 },
 "nbformat": 4,
 "nbformat_minor": 5
}
