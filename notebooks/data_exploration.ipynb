{
 "cells": [
  {
   "cell_type": "code",
   "execution_count": null,
   "id": "8484ae54-cac5-4b56-8a82-eb47f5841b93",
   "metadata": {
    "tags": []
   },
   "outputs": [],
   "source": [
    "import matplotlib.pyplot as plt\n",
    "import numpy as np\n",
    "import pandas as pd\n",
    "from pyprojroot import here\n",
    "import seaborn as sns\n",
    "import torch\n",
    "\n",
    "from data import Dream\n",
    "from models.utils import numpify\n",
    "from data.utils import one_hot_encode, pad\n",
    "\n",
    "device = torch.device(f\"cuda\") if torch.cuda.is_available() else torch.device(\"cpu\")"
   ]
  },
  {
   "cell_type": "code",
   "execution_count": null,
   "id": "c491a534-5f36-4ce7-8122-78ded7fdeacb",
   "metadata": {},
   "outputs": [],
   "source": [
    "# load data\n",
    "train = pd.read_csv(\n",
    "    f\"{here('data/dream')}/train_sequences.txt\", sep=\"\\t\", names=[\"seq\", \"expr\"]\n",
    ")\n",
    "test = pd.read_csv(\n",
    "    f\"{here('data/dream')}/test_sequences.txt\", sep=\"\\t\", names=[\"seq\", \"expr\"]\n",
    ")"
   ]
  },
  {
   "cell_type": "code",
   "execution_count": null,
   "id": "30e7e2d4-bc60-48ec-8f40-33c4de58bf45",
   "metadata": {},
   "outputs": [],
   "source": [
    "# all sequences START with the same subsequence\n",
    "primer5 = \"TGCATTTTTTTCACATC\"\n",
    "print(\"Train:\", sum([not x.startswith(primer5) for x in train.seq]))\n",
    "print(\"Test:\", sum([not x.startswith(primer5) for x in test.seq]))\n",
    "train.seq = [x.removeprefix(primer5) for x in train.seq]\n",
    "test.seq = [x.removeprefix(primer5) for x in test.seq]"
   ]
  },
  {
   "cell_type": "code",
   "execution_count": null,
   "id": "c929fe69-1790-4b5d-af29-34c6624adab9",
   "metadata": {},
   "outputs": [],
   "source": [
    "# all sequences END with the same subsequence\n",
    "primer3 = \"GGTTACGGCTGTT\"\n",
    "print(\"Train:\", sum([not x.endswith(primer3) for x in train.seq]))\n",
    "print(\"Test:\", sum([not x.endswith(primer3) for x in test.seq]))\n",
    "train.seq = [x.removesuffix(primer3) for x in train.seq]\n",
    "test.seq = [x.removesuffix(primer3) for x in test.seq]"
   ]
  },
  {
   "cell_type": "code",
   "execution_count": null,
   "id": "f3d9859a-24aa-4d62-84d3-dfdf8c9b290f",
   "metadata": {},
   "outputs": [],
   "source": [
    "# length of the sequences\n",
    "tr_seq_len = [len(x) for x in train.seq]\n",
    "te_seq_len = [len(x) for x in test.seq]\n",
    "\n",
    "g = sns.histplot(x=tr_seq_len)\n",
    "g.set(yscale=\"log\")\n",
    "g.set(xlabel=\"Sequence length\")\n",
    "\n",
    "print(f\"Train: max length={max(tr_seq_len)}; min length={min(tr_seq_len)}\")\n",
    "print(f\"Test: max length={max(te_seq_len)}; min length={min(te_seq_len)}\")"
   ]
  },
  {
   "cell_type": "code",
   "execution_count": null,
   "id": "22069428-4925-478c-85ea-a3a5b439adf3",
   "metadata": {},
   "outputs": [],
   "source": [
    "# convert into one-hot\n",
    "train_one_hot = torch.stack(\n",
    "    [one_hot_encode(pad(x, max(tr_seq_len))) for x in train.seq]\n",
    ")\n",
    "# test_one_hot = torch.stack([one_hot_encode(pad(x, max(te_seq_len))) for x in test.seq])\n",
    "\n",
    "torch.save(train_one_hot, f\"{here('data/dream')}/train_one_hot.pt\")\n",
    "# torch.save(test_one_hot, f\"{here('data/dream')}/test_one_hot.pt\")\n",
    "\n",
    "# train_one_hot = torch.load(f\"{here('data/dream')}/train_one_hot.pt\")\n",
    "test_one_hot = torch.load(f\"{here('data/dream')}/test_one_hot.pt\")"
   ]
  },
  {
   "cell_type": "code",
   "execution_count": null,
   "id": "3cfd6fda-091a-4cef-884d-0fe282a028e1",
   "metadata": {
    "tags": []
   },
   "outputs": [],
   "source": [
    "# study nucleotide frequencies\n",
    "def plot_nt_freq(seqs, **plt_kwargs):\n",
    "\n",
    "    df = pd.DataFrame(\n",
    "        (seqs.sum(axis=0) / seqs.sum(axis=(0, 1))).T, columns=[\"A\", \"C\", \"T\", \"G\"]\n",
    "    )\n",
    "    df[\"Position\"] = list(range(80))\n",
    "    df = df.melt(\"Position\", var_name=\"Base\", value_name=\"Frequency\")\n",
    "\n",
    "    g = sns.lineplot(x=\"Position\", y=\"Frequency\", hue=\"Base\", data=df, **plt_kwargs)\n",
    "    g.axis(ymin=0.14, ymax=0.33, xmin=0, xmax=seqs.shape[2])\n",
    "    g.set_title(\"Test\" if seqs == test_one_hot else \"Train\")\n",
    "\n",
    "    return g\n",
    "\n",
    "\n",
    "fig, ax = plt.subplots(1, 2, figsize=(15, 6))\n",
    "fig.suptitle(\"Nucleotide frequencies\", fontsize=16)\n",
    "# plot_nt_freq(train_one_hot, ax=ax[0])\n",
    "plot_nt_freq(test_one_hot, ax=ax[1])"
   ]
  },
  {
   "cell_type": "code",
   "execution_count": null,
   "id": "997c7c34-33a7-41d4-93b2-bf36eab95099",
   "metadata": {
    "tags": []
   },
   "outputs": [],
   "source": [
    "# study missing values\n",
    "def plot_na(seqs, **plt_kwargs):\n",
    "    missing = seqs.shape[0] - seqs.sum(axis=(0, 1))\n",
    "\n",
    "    g = sns.lineplot(x=list(range(80)), y=missing + 0.99, **plt_kwargs)\n",
    "    g.set(yscale=\"log\")\n",
    "    # g.set_title(\"Test\" if seqs == test_one_hot else \"Train\")\n",
    "    g.axis(ymin=0.9, ymax=2e6)\n",
    "    g.set(xlabel=\"Position\", ylabel=\"Number of samples\")\n",
    "\n",
    "    return g\n",
    "\n",
    "\n",
    "plt.rcParams[\"figure.figsize\"] = 15, 6\n",
    "fig, ax = plt.subplots(1, 2)\n",
    "fig.suptitle(\"Number of missing values\", fontsize=16)\n",
    "# plot_na(train_one_hot, ax=ax[0])\n",
    "plot_na(test_one_hot, ax=ax[1])"
   ]
  },
  {
   "cell_type": "code",
   "execution_count": null,
   "id": "44561dbd-fb17-406f-8ce1-5c81243b317f",
   "metadata": {
    "tags": []
   },
   "outputs": [],
   "source": [
    "df = pd.DataFrame(\n",
    "    {\n",
    "        \"n_missing_vals\": numpify(80 - train_one_hot.sum(axis=(1, 2))),\n",
    "        \"expression\": numpify(train_one_hot).flatten(),\n",
    "    }\n",
    ")\n",
    "\n",
    "sns.scatterplot(x=\"n_missing_vals\", y=\"expression\", data=df)"
   ]
  },
  {
   "cell_type": "code",
   "execution_count": null,
   "id": "ad0f7486-7035-4f05-ad8e-ebffa2909afa",
   "metadata": {
    "tags": []
   },
   "outputs": [],
   "source": [
    "# study expression\n",
    "g = sns.histplot(x=train.expr)\n",
    "g.set(yscale=\"log\")\n",
    "g.set(xlabel=\"Expression\")\n",
    "g.axis(xmin=-0.1, xmax=17.1)\n",
    "\n",
    "print(\"Min expression:\", train.expr.min())\n",
    "print(\"Mean expression:\", train.expr.mean())\n",
    "print(\"Median expression:\", train.expr.median())\n",
    "print(\"Max expression:\", train.expr.max())"
   ]
  },
  {
   "cell_type": "code",
   "execution_count": null,
   "id": "3d6acb72-0519-4cfb-a5df-0ae320e670d9",
   "metadata": {
    "tags": []
   },
   "outputs": [],
   "source": [
    "# check outliers: 0 expression\n",
    "train_one_hot = train_one_hot[train.expr == 0]\n",
    "\n",
    "df = pd.DataFrame(\n",
    "    train_one_hot[train.expr == 0, :].sum(axis=0).T / sum(train.expr == 0),\n",
    "    columns=[\"A\", \"C\", \"T\", \"G\"],\n",
    ")\n",
    "df[\"Position\"] = list(range(80))\n",
    "df = df.melt(\"Position\", var_name=\"Base\", value_name=\"Frequency\")\n",
    "\n",
    "g = sns.lineplot(x=\"Position\", y=\"Frequency\", hue=\"Base\", data=df)\n",
    "g.axis(xmin=0, xmax=79)\n",
    "g.set_title(\n",
    "    f\"Base frequencies in {sum(tr.expression == 0)} 0-expression sequences\", fontsize=16\n",
    ")"
   ]
  },
  {
   "cell_type": "code",
   "execution_count": null,
   "id": "de9ac4cf-6b7e-48fa-9418-d0444485bdcd",
   "metadata": {
    "tags": []
   },
   "outputs": [],
   "source": [
    "decimals, _ = np.modf(train.expr)\n",
    "g = sns.histplot(x=decimals)\n",
    "g.set(yscale=\"log\")\n",
    "g.set(xlabel=\"Decimals\")\n",
    "g.axis(xmin=-0.01, xmax=1.01)"
   ]
  },
  {
   "cell_type": "code",
   "execution_count": null,
   "id": "d3e05271-13cb-419b-be16-e27935d1c5f2",
   "metadata": {},
   "outputs": [],
   "source": [
    "# top nubbers\n",
    "u, counts = np.unique(decimals[decimals != 0], return_counts=True)\n",
    "counts_sort_ind = np.argsort(-counts)\n",
    "\n",
    "u[counts_sort_ind][:10]"
   ]
  },
  {
   "cell_type": "code",
   "execution_count": null,
   "id": "cd644bdd-51a4-4b9f-b300-e0b7b11f8688",
   "metadata": {},
   "outputs": [],
   "source": [
    "from sklearn.decomposition import PCA\n",
    "\n",
    "tr_categorical = (\n",
    "    torch.argmax(train_one_hot, axis=1).float() - 1.5\n",
    ")  # numerise and zero-center\n",
    "te_categorical = (\n",
    "    torch.argmax(test_one_hot, axis=1).float() - 1.5\n",
    ")  # numerise and zero-center\n",
    "\n",
    "idx = range(0, 80, 4)\n",
    "\n",
    "vars_tr, vars_te = (\n",
    "    PCA().fit(tr_categorical).explained_variance_ratio_.cumsum()[idx],\n",
    "    PCA().fit(te_categorical).explained_variance_ratio_.cumsum()[idx],\n",
    ")\n",
    "\n",
    "g = sns.FacetGrid(\n",
    "    pd.concat(\n",
    "        map(\n",
    "            pd.DataFrame,\n",
    "            [\n",
    "                {\n",
    "                    \"explained variance\": vars_tr,\n",
    "                    \"no. components\": idx,\n",
    "                    \"Data\": len(idx) * [\"Train\"],\n",
    "                },\n",
    "                {\n",
    "                    \"explained variance\": vars_te,\n",
    "                    \"no. components\": idx,\n",
    "                    \"Data\": len(idx) * [\"Test\"],\n",
    "                },\n",
    "            ],\n",
    "        )\n",
    "    ),\n",
    "    col=\"Data\",\n",
    "    size=5,\n",
    ")\n",
    "g.map_dataframe(sns.barplot, x=\"no. components\", y=\"explained variance\")"
   ]
  }
 ],
 "metadata": {
  "kernelspec": {
   "display_name": "Python 3 (ipykernel)",
   "language": "python",
   "name": "python3"
  },
  "language_info": {
   "codemirror_mode": {
    "name": "ipython",
    "version": 3
   },
   "file_extension": ".py",
   "mimetype": "text/x-python",
   "name": "python",
   "nbconvert_exporter": "python",
   "pygments_lexer": "ipython3",
   "version": "3.10.4"
  }
 },
 "nbformat": 4,
 "nbformat_minor": 5
}
