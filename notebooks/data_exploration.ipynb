{
 "cells": [
  {
   "cell_type": "code",
   "execution_count": 2,
   "id": "8484ae54-cac5-4b56-8a82-eb47f5841b93",
   "metadata": {
    "tags": []
   },
   "outputs": [],
   "source": [
    "import matplotlib.pyplot as plt\n",
    "import numpy as np\n",
    "import pandas as pd\n",
    "from pyprojroot import here\n",
    "import seaborn as sns\n",
    "import torch\n",
    "\n",
    "from data import Dream\n",
    "from models.utils import numpify\n",
    "from data.utils import one_hot_encode, pad\n",
    "\n",
    "device = torch.device(f\"cuda\") if torch.cuda.is_available() else torch.device(\"cpu\")"
   ]
  },
  {
   "cell_type": "code",
   "execution_count": 3,
   "id": "c491a534-5f36-4ce7-8122-78ded7fdeacb",
   "metadata": {},
   "outputs": [],
   "source": [
    "# load data\n",
    "train = pd.read_csv(\n",
    "    f\"{here('data/dream')}/train_mini.txt\", sep=\"\\t\", names=[\"seq\", \"expr\"]\n",
    ")\n",
    "test = pd.read_csv(\n",
    "    f\"{here('data/dream')}/test_sequences.txt\", sep=\"\\t\", names=[\"seq\", \"expr\"]\n",
    ")"
   ]
  },
  {
   "cell_type": "code",
   "execution_count": 4,
   "id": "30e7e2d4-bc60-48ec-8f40-33c4de58bf45",
   "metadata": {},
   "outputs": [
    {
     "name": "stdout",
     "output_type": "stream",
     "text": [
      "Train: 0\n",
      "Test: 0\n"
     ]
    }
   ],
   "source": [
    "# all sequences START with the same subsequence\n",
    "primer5 = \"TGCATTTTTTTCACATC\"\n",
    "print(\"Train:\", sum([not x.startswith(primer5) for x in train.seq]))\n",
    "print(\"Test:\", sum([not x.startswith(primer5) for x in test.seq]))\n",
    "train.seq = [x.removeprefix(primer5) for x in train.seq]\n",
    "test.seq = [x.removeprefix(primer5) for x in test.seq]"
   ]
  },
  {
   "cell_type": "code",
   "execution_count": 5,
   "id": "c929fe69-1790-4b5d-af29-34c6624adab9",
   "metadata": {},
   "outputs": [
    {
     "name": "stdout",
     "output_type": "stream",
     "text": [
      "Train: 0\n",
      "Test: 0\n"
     ]
    }
   ],
   "source": [
    "# all sequences END with the same subsequence\n",
    "primer3 = \"GGTTACGGCTGTT\"\n",
    "print(\"Train:\", sum([not x.endswith(primer3) for x in train.seq]))\n",
    "print(\"Test:\", sum([not x.endswith(primer3) for x in test.seq]))\n",
    "train.seq = [x.removesuffix(primer3) for x in train.seq]\n",
    "test.seq = [x.removesuffix(primer3) for x in test.seq]"
   ]
  },
  {
   "cell_type": "code",
   "execution_count": 6,
   "id": "f3d9859a-24aa-4d62-84d3-dfdf8c9b290f",
   "metadata": {},
   "outputs": [
    {
     "name": "stdout",
     "output_type": "stream",
     "text": [
      "Train: max length=107; min length=55\n",
      "Test: max length=80; min length=80\n"
     ]
    },
    {
     "data": {
      "image/png": "[encoded data removed]",
      "text/plain": [
       "<Figure size 432x288 with 1 Axes>"
      ]
     },
     "metadata": {
      "needs_background": "light"
     },
     "output_type": "display_data"
    }
   ],
   "source": [
    "# length of the sequences\n",
    "tr_seq_len = [len(x) for x in train.seq]\n",
    "te_seq_len = [len(x) for x in test.seq]\n",
    "\n",
    "g = sns.histplot(x=tr_seq_len)\n",
    "g.set(yscale=\"log\")\n",
    "g.set(xlabel=\"Sequence length\")\n",
    "\n",
    "print(f\"Train: max length={max(tr_seq_len)}; min length={min(tr_seq_len)}\")\n",
    "print(f\"Test: max length={max(te_seq_len)}; min length={min(te_seq_len)}\")"
   ]
  },
  {
   "cell_type": "code",
   "execution_count": 8,
   "id": "22069428-4925-478c-85ea-a3a5b439adf3",
   "metadata": {},
   "outputs": [],
   "source": [
    "# convert into one-hot\n",
    "train_one_hot = torch.stack(\n",
    "    [one_hot_encode(pad(x, max(tr_seq_len))) for x in train.seq]\n",
    ")\n",
    "test_one_hot = torch.stack([one_hot_encode(pad(x, max(te_seq_len))) for x in test.seq])\n",
    "\n",
    "torch.save(train_one_hot, f\"{here('data/dream')}/train_one_hot.pt\")\n",
    "torch.save(test_one_hot, f\"{here('data/dream')}/test_one_hot.pt\")\n",
    "\n",
    "train_one_hot = torch.load(f\"{here('data/dream')}/train_one_hot.pt\")\n",
    "test_one_hot = torch.load(f\"{here('data/dream')}/test_one_hot.pt\")"
   ]
  },
  {
   "cell_type": "code",
   "execution_count": 131,
   "id": "99efbae2-809a-4134-ae5b-a9480846e3e8",
   "metadata": {},
   "outputs": [
    {
     "name": "stderr",
     "output_type": "stream",
     "text": [
      "/home/jcboyd/Documents/dna2prot/env/lib/python3.10/site-packages/seaborn/axisgrid.py:337: UserWarning: The `size` parameter has been renamed to `height`; please update your code.\n",
      "  warnings.warn(msg, UserWarning)\n"
     ]
    },
    {
     "data": {
      "text/plain": [
       "<seaborn.axisgrid.FacetGrid at 0x7f2f8b99bfa0>"
      ]
     },
     "execution_count": 131,
     "metadata": {},
     "output_type": "execute_result"
    },
    {
     "data": {
      "image/png": "[encoded data removed]",
      "text/plain": [
       "<Figure size 720x360 with 2 Axes>"
      ]
     },
     "metadata": {
      "needs_background": "light"
     },
     "output_type": "display_data"
    }
   ],
   "source": [
    "from sklearn.decomposition import PCA\n",
    "\n",
    "tr_categorical = torch.argmax(train_one_hot, axis=1).float() - 1.5  # numerise and zero-center\n",
    "te_categorical = torch.argmax(test_one_hot, axis=1).float() - 1.5   # numerise and zero-center\n",
    "\n",
    "idx = range(0, 80, 4)\n",
    "\n",
    "vars_tr, vars_te = (PCA().fit(tr_categorical).explained_variance_ratio_.cumsum()[idx],\n",
    "                    PCA().fit(te_categorical).explained_variance_ratio_.cumsum()[idx])\n",
    "\n",
    "g = sns.FacetGrid(pd.concat(map(pd.DataFrame, [\n",
    "    {'explained variance' : vars_tr, 'no. components' : idx, 'Data' : len(idx) * ['Train']},\n",
    "    {'explained variance' : vars_te, 'no. components' : idx, 'Data' : len(idx) * ['Test']}])), col='Data', size=5)\n",
    "g.map_dataframe(sns.barplot, x='no. components', y='explained variance')"
   ]
  },
  {
   "cell_type": "code",
   "execution_count": 11,
   "id": "3cfd6fda-091a-4cef-884d-0fe282a028e1",
   "metadata": {
    "tags": []
   },
   "outputs": [
    {
     "ename": "ValueError",
     "evalue": "Length of values (80) does not match length of index (107)",
     "output_type": "error",
     "traceback": [
      "\u001b[0;31m---------------------------------------------------------------------------\u001b[0m",
      "\u001b[0;31mValueError\u001b[0m                                Traceback (most recent call last)",
      "Input \u001b[0;32mIn [11]\u001b[0m, in \u001b[0;36m<cell line: 19>\u001b[0;34m()\u001b[0m\n\u001b[1;32m     17\u001b[0m fig, ax \u001b[38;5;241m=\u001b[39m plt\u001b[38;5;241m.\u001b[39msubplots(\u001b[38;5;241m1\u001b[39m, \u001b[38;5;241m2\u001b[39m, figsize\u001b[38;5;241m=\u001b[39m(\u001b[38;5;241m15\u001b[39m, \u001b[38;5;241m6\u001b[39m))\n\u001b[1;32m     18\u001b[0m fig\u001b[38;5;241m.\u001b[39msuptitle(\u001b[38;5;124m\"\u001b[39m\u001b[38;5;124mNucleotide frequencies\u001b[39m\u001b[38;5;124m\"\u001b[39m, fontsize\u001b[38;5;241m=\u001b[39m\u001b[38;5;241m16\u001b[39m)\n\u001b[0;32m---> 19\u001b[0m \u001b[43mplot_nt_freq\u001b[49m\u001b[43m(\u001b[49m\u001b[43mtrain_one_hot\u001b[49m\u001b[43m,\u001b[49m\u001b[43m \u001b[49m\u001b[43max\u001b[49m\u001b[38;5;241;43m=\u001b[39;49m\u001b[43max\u001b[49m\u001b[43m[\u001b[49m\u001b[38;5;241;43m0\u001b[39;49m\u001b[43m]\u001b[49m\u001b[43m)\u001b[49m\n\u001b[1;32m     20\u001b[0m plot_nt_freq(test_one_hot, ax\u001b[38;5;241m=\u001b[39max[\u001b[38;5;241m1\u001b[39m])\n",
      "Input \u001b[0;32mIn [11]\u001b[0m, in \u001b[0;36mplot_nt_freq\u001b[0;34m(seqs, **plt_kwargs)\u001b[0m\n\u001b[1;32m      2\u001b[0m \u001b[38;5;28;01mdef\u001b[39;00m \u001b[38;5;21mplot_nt_freq\u001b[39m(seqs, \u001b[38;5;241m*\u001b[39m\u001b[38;5;241m*\u001b[39mplt_kwargs):\n\u001b[1;32m      4\u001b[0m     df \u001b[38;5;241m=\u001b[39m pd\u001b[38;5;241m.\u001b[39mDataFrame(\n\u001b[1;32m      5\u001b[0m         (seqs\u001b[38;5;241m.\u001b[39msum(axis\u001b[38;5;241m=\u001b[39m\u001b[38;5;241m0\u001b[39m) \u001b[38;5;241m/\u001b[39m seqs\u001b[38;5;241m.\u001b[39msum(axis\u001b[38;5;241m=\u001b[39m(\u001b[38;5;241m0\u001b[39m, \u001b[38;5;241m1\u001b[39m)))\u001b[38;5;241m.\u001b[39mT, columns\u001b[38;5;241m=\u001b[39m[\u001b[38;5;124m\"\u001b[39m\u001b[38;5;124mA\u001b[39m\u001b[38;5;124m\"\u001b[39m, \u001b[38;5;124m\"\u001b[39m\u001b[38;5;124mC\u001b[39m\u001b[38;5;124m\"\u001b[39m, \u001b[38;5;124m\"\u001b[39m\u001b[38;5;124mT\u001b[39m\u001b[38;5;124m\"\u001b[39m, \u001b[38;5;124m\"\u001b[39m\u001b[38;5;124mG\u001b[39m\u001b[38;5;124m\"\u001b[39m]\n\u001b[1;32m      6\u001b[0m     )\n\u001b[0;32m----> 7\u001b[0m     df[\u001b[38;5;124m\"\u001b[39m\u001b[38;5;124mPosition\u001b[39m\u001b[38;5;124m\"\u001b[39m] \u001b[38;5;241m=\u001b[39m \u001b[38;5;28mlist\u001b[39m(\u001b[38;5;28mrange\u001b[39m(\u001b[38;5;241m80\u001b[39m))\n\u001b[1;32m      8\u001b[0m     df \u001b[38;5;241m=\u001b[39m df\u001b[38;5;241m.\u001b[39mmelt(\u001b[38;5;124m\"\u001b[39m\u001b[38;5;124mPosition\u001b[39m\u001b[38;5;124m\"\u001b[39m, var_name\u001b[38;5;241m=\u001b[39m\u001b[38;5;124m\"\u001b[39m\u001b[38;5;124mBase\u001b[39m\u001b[38;5;124m\"\u001b[39m, value_name\u001b[38;5;241m=\u001b[39m\u001b[38;5;124m\"\u001b[39m\u001b[38;5;124mFrequency\u001b[39m\u001b[38;5;124m\"\u001b[39m)\n\u001b[1;32m     10\u001b[0m     g \u001b[38;5;241m=\u001b[39m sns\u001b[38;5;241m.\u001b[39mlineplot(x\u001b[38;5;241m=\u001b[39m\u001b[38;5;124m\"\u001b[39m\u001b[38;5;124mPosition\u001b[39m\u001b[38;5;124m\"\u001b[39m, y\u001b[38;5;241m=\u001b[39m\u001b[38;5;124m\"\u001b[39m\u001b[38;5;124mFrequency\u001b[39m\u001b[38;5;124m\"\u001b[39m, hue\u001b[38;5;241m=\u001b[39m\u001b[38;5;124m\"\u001b[39m\u001b[38;5;124mBase\u001b[39m\u001b[38;5;124m\"\u001b[39m, data\u001b[38;5;241m=\u001b[39mdf, \u001b[38;5;241m*\u001b[39m\u001b[38;5;241m*\u001b[39mplt_kwargs)\n",
      "File \u001b[0;32m~/Documents/dna2prot/env/lib/python3.10/site-packages/pandas/core/frame.py:3655\u001b[0m, in \u001b[0;36mDataFrame.__setitem__\u001b[0;34m(self, key, value)\u001b[0m\n\u001b[1;32m   3652\u001b[0m     \u001b[38;5;28mself\u001b[39m\u001b[38;5;241m.\u001b[39m_setitem_array([key], value)\n\u001b[1;32m   3653\u001b[0m \u001b[38;5;28;01melse\u001b[39;00m:\n\u001b[1;32m   3654\u001b[0m     \u001b[38;5;66;03m# set column\u001b[39;00m\n\u001b[0;32m-> 3655\u001b[0m     \u001b[38;5;28;43mself\u001b[39;49m\u001b[38;5;241;43m.\u001b[39;49m\u001b[43m_set_item\u001b[49m\u001b[43m(\u001b[49m\u001b[43mkey\u001b[49m\u001b[43m,\u001b[49m\u001b[43m \u001b[49m\u001b[43mvalue\u001b[49m\u001b[43m)\u001b[49m\n",
      "File \u001b[0;32m~/Documents/dna2prot/env/lib/python3.10/site-packages/pandas/core/frame.py:3832\u001b[0m, in \u001b[0;36mDataFrame._set_item\u001b[0;34m(self, key, value)\u001b[0m\n\u001b[1;32m   3822\u001b[0m \u001b[38;5;28;01mdef\u001b[39;00m \u001b[38;5;21m_set_item\u001b[39m(\u001b[38;5;28mself\u001b[39m, key, value) \u001b[38;5;241m-\u001b[39m\u001b[38;5;241m>\u001b[39m \u001b[38;5;28;01mNone\u001b[39;00m:\n\u001b[1;32m   3823\u001b[0m     \u001b[38;5;124;03m\"\"\"\u001b[39;00m\n\u001b[1;32m   3824\u001b[0m \u001b[38;5;124;03m    Add series to DataFrame in specified column.\u001b[39;00m\n\u001b[1;32m   3825\u001b[0m \n\u001b[0;32m   (...)\u001b[0m\n\u001b[1;32m   3830\u001b[0m \u001b[38;5;124;03m    ensure homogeneity.\u001b[39;00m\n\u001b[1;32m   3831\u001b[0m \u001b[38;5;124;03m    \"\"\"\u001b[39;00m\n\u001b[0;32m-> 3832\u001b[0m     value \u001b[38;5;241m=\u001b[39m \u001b[38;5;28;43mself\u001b[39;49m\u001b[38;5;241;43m.\u001b[39;49m\u001b[43m_sanitize_column\u001b[49m\u001b[43m(\u001b[49m\u001b[43mvalue\u001b[49m\u001b[43m)\u001b[49m\n\u001b[1;32m   3834\u001b[0m     \u001b[38;5;28;01mif\u001b[39;00m (\n\u001b[1;32m   3835\u001b[0m         key \u001b[38;5;129;01min\u001b[39;00m \u001b[38;5;28mself\u001b[39m\u001b[38;5;241m.\u001b[39mcolumns\n\u001b[1;32m   3836\u001b[0m         \u001b[38;5;129;01mand\u001b[39;00m value\u001b[38;5;241m.\u001b[39mndim \u001b[38;5;241m==\u001b[39m \u001b[38;5;241m1\u001b[39m\n\u001b[1;32m   3837\u001b[0m         \u001b[38;5;129;01mand\u001b[39;00m \u001b[38;5;129;01mnot\u001b[39;00m is_extension_array_dtype(value)\n\u001b[1;32m   3838\u001b[0m     ):\n\u001b[1;32m   3839\u001b[0m         \u001b[38;5;66;03m# broadcast across multiple columns if necessary\u001b[39;00m\n\u001b[1;32m   3840\u001b[0m         \u001b[38;5;28;01mif\u001b[39;00m \u001b[38;5;129;01mnot\u001b[39;00m \u001b[38;5;28mself\u001b[39m\u001b[38;5;241m.\u001b[39mcolumns\u001b[38;5;241m.\u001b[39mis_unique \u001b[38;5;129;01mor\u001b[39;00m \u001b[38;5;28misinstance\u001b[39m(\u001b[38;5;28mself\u001b[39m\u001b[38;5;241m.\u001b[39mcolumns, MultiIndex):\n",
      "File \u001b[0;32m~/Documents/dna2prot/env/lib/python3.10/site-packages/pandas/core/frame.py:4535\u001b[0m, in \u001b[0;36mDataFrame._sanitize_column\u001b[0;34m(self, value)\u001b[0m\n\u001b[1;32m   4532\u001b[0m     \u001b[38;5;28;01mreturn\u001b[39;00m _reindex_for_setitem(value, \u001b[38;5;28mself\u001b[39m\u001b[38;5;241m.\u001b[39mindex)\n\u001b[1;32m   4534\u001b[0m \u001b[38;5;28;01mif\u001b[39;00m is_list_like(value):\n\u001b[0;32m-> 4535\u001b[0m     \u001b[43mcom\u001b[49m\u001b[38;5;241;43m.\u001b[39;49m\u001b[43mrequire_length_match\u001b[49m\u001b[43m(\u001b[49m\u001b[43mvalue\u001b[49m\u001b[43m,\u001b[49m\u001b[43m \u001b[49m\u001b[38;5;28;43mself\u001b[39;49m\u001b[38;5;241;43m.\u001b[39;49m\u001b[43mindex\u001b[49m\u001b[43m)\u001b[49m\n\u001b[1;32m   4536\u001b[0m \u001b[38;5;28;01mreturn\u001b[39;00m sanitize_array(value, \u001b[38;5;28mself\u001b[39m\u001b[38;5;241m.\u001b[39mindex, copy\u001b[38;5;241m=\u001b[39m\u001b[38;5;28;01mTrue\u001b[39;00m, allow_2d\u001b[38;5;241m=\u001b[39m\u001b[38;5;28;01mTrue\u001b[39;00m)\n",
      "File \u001b[0;32m~/Documents/dna2prot/env/lib/python3.10/site-packages/pandas/core/common.py:557\u001b[0m, in \u001b[0;36mrequire_length_match\u001b[0;34m(data, index)\u001b[0m\n\u001b[1;32m    553\u001b[0m \u001b[38;5;124;03m\"\"\"\u001b[39;00m\n\u001b[1;32m    554\u001b[0m \u001b[38;5;124;03mCheck the length of data matches the length of the index.\u001b[39;00m\n\u001b[1;32m    555\u001b[0m \u001b[38;5;124;03m\"\"\"\u001b[39;00m\n\u001b[1;32m    556\u001b[0m \u001b[38;5;28;01mif\u001b[39;00m \u001b[38;5;28mlen\u001b[39m(data) \u001b[38;5;241m!=\u001b[39m \u001b[38;5;28mlen\u001b[39m(index):\n\u001b[0;32m--> 557\u001b[0m     \u001b[38;5;28;01mraise\u001b[39;00m \u001b[38;5;167;01mValueError\u001b[39;00m(\n\u001b[1;32m    558\u001b[0m         \u001b[38;5;124m\"\u001b[39m\u001b[38;5;124mLength of values \u001b[39m\u001b[38;5;124m\"\u001b[39m\n\u001b[1;32m    559\u001b[0m         \u001b[38;5;124mf\u001b[39m\u001b[38;5;124m\"\u001b[39m\u001b[38;5;124m(\u001b[39m\u001b[38;5;132;01m{\u001b[39;00m\u001b[38;5;28mlen\u001b[39m(data)\u001b[38;5;132;01m}\u001b[39;00m\u001b[38;5;124m) \u001b[39m\u001b[38;5;124m\"\u001b[39m\n\u001b[1;32m    560\u001b[0m         \u001b[38;5;124m\"\u001b[39m\u001b[38;5;124mdoes not match length of index \u001b[39m\u001b[38;5;124m\"\u001b[39m\n\u001b[1;32m    561\u001b[0m         \u001b[38;5;124mf\u001b[39m\u001b[38;5;124m\"\u001b[39m\u001b[38;5;124m(\u001b[39m\u001b[38;5;132;01m{\u001b[39;00m\u001b[38;5;28mlen\u001b[39m(index)\u001b[38;5;132;01m}\u001b[39;00m\u001b[38;5;124m)\u001b[39m\u001b[38;5;124m\"\u001b[39m\n\u001b[1;32m    562\u001b[0m     )\n",
      "\u001b[0;31mValueError\u001b[0m: Length of values (80) does not match length of index (107)"
     ]
    },
    {
     "data": {
      "image/png": "[encoded data removed]",
      "text/plain": [
       "<Figure size 1080x432 with 2 Axes>"
      ]
     },
     "metadata": {
      "needs_background": "light"
     },
     "output_type": "display_data"
    }
   ],
   "source": [
    "# study nucleotide frequencies\n",
    "def plot_nt_freq(seqs, **plt_kwargs):\n",
    "\n",
    "    df = pd.DataFrame(\n",
    "        (seqs.sum(axis=0) / seqs.sum(axis=(0, 1))).T, columns=[\"A\", \"C\", \"T\", \"G\"]\n",
    "    )\n",
    "    df[\"Position\"] = list(range(80))\n",
    "    df = df.melt(\"Position\", var_name=\"Base\", value_name=\"Frequency\")\n",
    "\n",
    "    g = sns.lineplot(x=\"Position\", y=\"Frequency\", hue=\"Base\", data=df, **plt_kwargs)\n",
    "    g.axis(ymin=0.14, ymax=0.33, xmin=0, xmax=seqs.shape[2])\n",
    "    #g.set_title(\"Test\" if seqs == test_one_hot else \"Train\")\n",
    "\n",
    "    return g\n",
    "\n",
    "\n",
    "fig, ax = plt.subplots(1, 2, figsize=(15, 6))\n",
    "fig.suptitle(\"Nucleotide frequencies\", fontsize=16)\n",
    "plot_nt_freq(train_one_hot, ax=ax[0])\n",
    "plot_nt_freq(test_one_hot, ax=ax[1])"
   ]
  },
  {
   "cell_type": "code",
   "execution_count": 37,
   "id": "997c7c34-33a7-41d4-93b2-bf36eab95099",
   "metadata": {
    "tags": []
   },
   "outputs": [
    {
     "data": {
      "text/plain": [
       "<AxesSubplot:xlabel='Position', ylabel='Number of samples'>"
      ]
     },
     "execution_count": 37,
     "metadata": {},
     "output_type": "execute_result"
    },
    {
     "data": {
      "image/png": "[encoded data removed]",
      "text/plain": [
       "<Figure size 1080x432 with 2 Axes>"
      ]
     },
     "metadata": {
      "needs_background": "light"
     },
     "output_type": "display_data"
    }
   ],
   "source": [
    "# study missing values\n",
    "def plot_na(seqs, **plt_kwargs):\n",
    "    missing = seqs.shape[0] - seqs.sum(axis=(0, 1))\n",
    "\n",
    "    g = sns.lineplot(x=list(range(80)), y=missing + 0.99, **plt_kwargs)\n",
    "    g.set(yscale=\"log\")\n",
    "    # g.set_title(\"Test\" if seqs == test_one_hot else \"Train\")\n",
    "    g.axis(ymin=0.9, ymax=2e6)\n",
    "    g.set(xlabel=\"Position\", ylabel=\"Number of samples\")\n",
    "\n",
    "    return g\n",
    "\n",
    "\n",
    "plt.rcParams[\"figure.figsize\"] = 15, 6\n",
    "fig, ax = plt.subplots(1, 2)\n",
    "fig.suptitle(\"Number of missing values\", fontsize=16)\n",
    "# plot_na(train_one_hot, ax=ax[0])\n",
    "plot_na(test_one_hot, ax=ax[1])"
   ]
  },
  {
   "cell_type": "code",
   "execution_count": null,
   "id": "44561dbd-fb17-406f-8ce1-5c81243b317f",
   "metadata": {
    "tags": []
   },
   "outputs": [],
   "source": [
    "df = pd.DataFrame(\n",
    "    {\n",
    "        \"n_missing_vals\": numpify(80 - train_one_hot.sum(axis=(1, 2))),\n",
    "        \"expression\": numpify(train_one_hot).flatten(),\n",
    "    }\n",
    ")\n",
    "\n",
    "sns.scatterplot(x=\"n_missing_vals\", y=\"expression\", data=df)"
   ]
  },
  {
   "cell_type": "code",
   "execution_count": null,
   "id": "ad0f7486-7035-4f05-ad8e-ebffa2909afa",
   "metadata": {
    "tags": []
   },
   "outputs": [],
   "source": [
    "# study expression\n",
    "g = sns.histplot(x=train.expr)\n",
    "g.set(yscale=\"log\")\n",
    "g.set(xlabel=\"Expression\")\n",
    "g.axis(xmin=-0.1, xmax=17.1)\n",
    "\n",
    "print(\"Min expression:\", train.expr.min())\n",
    "print(\"Mean expression:\", train.expr.mean())\n",
    "print(\"Median expression:\", train.expr.median())\n",
    "print(\"Max expression:\", train.expr.max())"
   ]
  },
  {
   "cell_type": "code",
   "execution_count": null,
   "id": "3d6acb72-0519-4cfb-a5df-0ae320e670d9",
   "metadata": {
    "tags": []
   },
   "outputs": [],
   "source": [
    "# check outliers: 0 expression\n",
    "train_one_hot = train_one_hot[train.expr == 0]\n",
    "\n",
    "df = pd.DataFrame(\n",
    "    train_one_hot[train.expr == 0, :].sum(axis=0).T / sum(train.expr == 0),\n",
    "    columns=[\"A\", \"C\", \"T\", \"G\"],\n",
    ")\n",
    "df[\"Position\"] = list(range(80))\n",
    "df = df.melt(\"Position\", var_name=\"Base\", value_name=\"Frequency\")\n",
    "\n",
    "g = sns.lineplot(x=\"Position\", y=\"Frequency\", hue=\"Base\", data=df)\n",
    "g.axis(xmin=0, xmax=79)\n",
    "g.set_title(\n",
    "    f\"Base frequencies in {sum(tr.expression == 0)} 0-expression sequences\", fontsize=16\n",
    ")"
   ]
  },
  {
   "cell_type": "code",
   "execution_count": null,
   "id": "de9ac4cf-6b7e-48fa-9418-d0444485bdcd",
   "metadata": {
    "tags": []
   },
   "outputs": [],
   "source": [
    "decimals, _ = np.modf(train.expr)\n",
    "g = sns.histplot(x=decimals)\n",
    "g.set(yscale=\"log\")\n",
    "g.set(xlabel=\"Decimals\")\n",
    "g.axis(xmin=-0.01, xmax=1.01)"
   ]
  },
  {
   "cell_type": "code",
   "execution_count": null,
   "id": "d3e05271-13cb-419b-be16-e27935d1c5f2",
   "metadata": {},
   "outputs": [],
   "source": [
    "# top nubbers\n",
    "u, counts = np.unique(decimals[decimals != 0], return_counts=True)\n",
    "counts_sort_ind = np.argsort(-counts)\n",
    "\n",
    "u[counts_sort_ind][:10]"
   ]
  },
  {
   "cell_type": "code",
   "execution_count": null,
   "id": "cd644bdd-51a4-4b9f-b300-e0b7b11f8688",
   "metadata": {},
   "outputs": [],
   "source": []
  }
 ],
 "metadata": {
  "kernelspec": {
   "display_name": "Python 3 (ipykernel)",
   "language": "python",
   "name": "python3"
  },
  "language_info": {
   "codemirror_mode": {
    "name": "ipython",
    "version": 3
   },
   "file_extension": ".py",
   "mimetype": "text/x-python",
   "name": "python",
   "nbconvert_exporter": "python",
   "pygments_lexer": "ipython3",
   "version": "3.10.4"
  }
 },
 "nbformat": 4,
 "nbformat_minor": 5
}
