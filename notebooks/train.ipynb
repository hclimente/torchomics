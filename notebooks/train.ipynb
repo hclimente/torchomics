{
 "cells": [
  {
   "cell_type": "code",
   "execution_count": null,
   "id": "a085e357-9672-4543-ad71-d463b2d0aba9",
   "metadata": {
    "tags": []
   },
   "outputs": [],
   "source": [
    "from random import random\n",
    "import warnings\n",
    "\n",
    "from git import Repo\n",
    "import pandas as pd\n",
    "from pyprojroot import here\n",
    "import seaborn as sns\n",
    "import torch\n",
    "from torch.utils.data import DataLoader\n",
    "from torchvision import transforms\n",
    "from tqdm.notebook import tqdm, trange\n",
    "\n",
    "from data import load, Dream, ReverseComplement\n",
    "from models import SimpleCNN_GELU, fix_seeds\n",
    "from models.utils import pearsonr, spearmanr\n",
    "\n",
    "\n",
    "repo = Repo(search_parent_directories=True)\n",
    "\n",
    "# save the current commit hash iff the repo has no un-committed changes\n",
    "sha = None if repo.is_dirty() else repo.head.object.hexsha\n",
    "\n",
    "if not sha:\n",
    "    warnings.warn(\"Uncommitted changes. The model parameters won't be saved.\")"
   ]
  },
  {
   "cell_type": "markdown",
   "id": "9a6d149d-ec57-4c92-aebf-a9075732b5e9",
   "metadata": {},
   "source": [
    "# Model and hyperparameters"
   ]
  },
  {
   "cell_type": "code",
   "execution_count": null,
   "id": "f13c2f7e-e6f7-4349-8fa1-0a2c437f5dd5",
   "metadata": {
    "tags": [
     "parameters"
    ]
   },
   "outputs": [],
   "source": [
    "# model hyperparameters\n",
    "model = SimpleCNN_GELU\n",
    "cuda_device = 0\n",
    "n_epochs = 10\n",
    "batch_size = 1024\n",
    "device = (\n",
    "    torch.device(f\"cuda:{cuda_device}\")\n",
    "    if torch.cuda.is_available()\n",
    "    else torch.device(\"cpu\")\n",
    ")\n",
    "seed = 0\n",
    "\n",
    "# data transforms\n",
    "rc_transform = True\n",
    "\n",
    "fix_seeds(seed)"
   ]
  },
  {
   "cell_type": "code",
   "execution_count": null,
   "id": "30781db4-5530-4a2c-a62a-4c5df1f040b2",
   "metadata": {},
   "outputs": [],
   "source": [
    "# model specification\n",
    "net = model().to(device)\n",
    "net_name = net.__class__.__name__\n",
    "\n",
    "criterion = torch.nn.MSELoss()\n",
    "optimizer = torch.optim.Adam(net.parameters(), lr=0.001)"
   ]
  },
  {
   "cell_type": "markdown",
   "id": "c47f5790-6daf-4187-9092-b4fc15bd895a",
   "metadata": {},
   "source": [
    "# Data loading"
   ]
  },
  {
   "cell_type": "code",
   "execution_count": null,
   "id": "8ecb19b2-f74d-4514-8457-808346d3ffe6",
   "metadata": {
    "tags": []
   },
   "outputs": [],
   "source": [
    "# train and validation\n",
    "val_size = 10000\n",
    "\n",
    "tr_cached = \"train_dev.pt\" if device.type == \"cpu\" else \"train.pt\"\n",
    "tr = load(\"train_sequences.txt\", tr_cached, Dream, path=here(\"data/dream\"))\n",
    "tr, val = torch.utils.data.random_split(tr, [len(tr) - val_size, val_size])\n",
    "\n",
    "val_loader = DataLoader(val, batch_size=val_size)\n",
    "val_seqs, val_rc, val_expression = next(iter(val_loader))\n",
    "\n",
    "# test (unlabelled)\n",
    "te = load(\"test_sequences.txt\", \"test.pt\", Dream, path=here(\"data/dream\"))"
   ]
  },
  {
   "cell_type": "code",
   "execution_count": null,
   "id": "15aebfa6-180a-4eaf-9698-15928c37edbf",
   "metadata": {},
   "outputs": [],
   "source": [
    "# data transformations\n",
    "tf = []\n",
    "\n",
    "if rc_transform:\n",
    "    net_name += \"_t=rc\"\n",
    "\n",
    "tr.transforms = transforms.Compose(tf)\n",
    "tr_loader = DataLoader(tr, batch_size=batch_size, shuffle=True, drop_last=True)"
   ]
  },
  {
   "cell_type": "code",
   "execution_count": null,
   "id": "261c765b-2bae-4d80-81aa-87704ef3c070",
   "metadata": {
    "tags": []
   },
   "outputs": [],
   "source": [
    "# # create a smaller training set for development\n",
    "# tr = load(\"train_sequences.txt\", tr_cached, Dream, path=here(\"data/dream\"))\n",
    "# tr, val = torch.utils.data.random_split(tr, [len(tr) - val_size, val_size])\n",
    "\n",
    "# d = Dream([''], [0])\n",
    "# d.sequences, d.rc_sequences, d.expression = next(iter(DataLoader(tr, batch_size=100000 + val_size, shuffle=True)))\n",
    "# d.expression = d.expression.flatten()\n",
    "\n",
    "# torch.save(d, here('data/dream/train_dev.pt'))"
   ]
  },
  {
   "cell_type": "markdown",
   "id": "94bbf3bc-264c-4945-9967-4d8308803d8b",
   "metadata": {},
   "source": [
    "# Model training"
   ]
  },
  {
   "cell_type": "code",
   "execution_count": null,
   "id": "50842a01-d3c4-4687-b89b-c2eec7a7cb3c",
   "metadata": {
    "tags": []
   },
   "outputs": [],
   "source": [
    "tr_losses = []\n",
    "val_losses = []\n",
    "tr_pearson = 0\n",
    "tr_spearman = 0\n",
    "\n",
    "# scaler for mixed precision training\n",
    "scaler = torch.cuda.amp.GradScaler()\n",
    "\n",
    "for epoch in range(n_epochs):\n",
    "    with tqdm(tr_loader) as tepoch:\n",
    "        for seq, rc, y in tepoch:\n",
    "\n",
    "            # forward\n",
    "            net.train()\n",
    "\n",
    "            seq, rc, y = seq.to(device), rc.to(device), y.to(device)\n",
    "\n",
    "            if rc_transform and random() < 0.5:\n",
    "                seq, rc = rc, seq\n",
    "\n",
    "            with torch.autocast(device_type=device.type):  # mixed precision\n",
    "                y_pred = net(seq, rc)\n",
    "                tr_loss = criterion(y_pred, y)\n",
    "\n",
    "            # backward (with mixed precision)\n",
    "            optimizer.zero_grad()\n",
    "            scaler.scale(tr_loss).backward()\n",
    "            scaler.step(optimizer)\n",
    "            scaler.update()\n",
    "\n",
    "            # evaluation\n",
    "            tr_losses.append(tr_loss.item())\n",
    "            tr_pearson = 0.9 * tr_pearson + 0.1 * pearsonr(y, y_pred)\n",
    "            tr_spearman = 0.9 * tr_spearman + 0.1 * spearmanr(y, y_pred)\n",
    "\n",
    "            tepoch.set_postfix(\n",
    "                tr_loss=tr_loss.item(),\n",
    "                r=tr_pearson,\n",
    "                rho=tr_spearman,\n",
    "            )\n",
    "\n",
    "        net.eval()\n",
    "\n",
    "        with torch.no_grad():\n",
    "            val_pred = net(val_seqs.to(device), val_rc.to(device)).cpu()\n",
    "            val_loss = criterion(val_pred, val_expression)\n",
    "            val_losses.append(val_loss.item())\n",
    "            val_pearson = pearsonr(val_expression, val_pred)\n",
    "            val_spearman = spearmanr(val_expression, val_pred)\n",
    "\n",
    "        # store model iff on a cuda environment and if the repo is clean\n",
    "        if device.type == \"cuda\" and sha:\n",
    "            torch.save(net.state_dict(), here(f\"results/models/{net_name}.pt\"))\n",
    "            torch.save(\n",
    "                {\n",
    "                    \"commit\": sha,\n",
    "                    \"train_loss\": tr_losses,\n",
    "                    \"train_pearson\": tr_pearson,\n",
    "                    \"train_spearman\": tr_spearman,\n",
    "                    \"val_loss\": val_losses,\n",
    "                    \"val_pearson\": val_pearson,\n",
    "                    \"val_spearman\": val_spearman,\n",
    "                },\n",
    "                here(f\"results/models/{net_name}_stats.pt\"),\n",
    "            )"
   ]
  },
  {
   "cell_type": "code",
   "execution_count": null,
   "id": "12f6aed7-13e9-4f48-a00a-f051b570e208",
   "metadata": {
    "tags": []
   },
   "outputs": [],
   "source": [
    "if device.type == \"cuda\" and sha:\n",
    "    with (open(here(\"results/models/summary.tsv\"), \"a\")) as S:\n",
    "        S.write(\n",
    "            f\"{net_name}\\t{tr_pearson}\\t{tr_spearman}\\t{val_pearson}\\t{val_spearman}\\t{sha}\\n\"\n",
    "        )"
   ]
  },
  {
   "cell_type": "code",
   "execution_count": null,
   "id": "bbc7971d-9da3-4d07-a1d1-74aa9f6ae8e1",
   "metadata": {
    "tags": []
   },
   "outputs": [],
   "source": [
    "sns.lineplot([i for i in range(len(tr_losses))], tr_losses).set(title=\"Train loss\")"
   ]
  },
  {
   "cell_type": "code",
   "execution_count": null,
   "id": "73a88da4-5ac3-46a0-a4d1-6ea68c6d8aca",
   "metadata": {
    "tags": []
   },
   "outputs": [],
   "source": [
    "sns.lineplot([i for i in range(len(val_losses))], val_losses).set(\n",
    "    title=\"Validation loss\"\n",
    ")"
   ]
  },
  {
   "cell_type": "markdown",
   "id": "12b26f7d-3189-4aec-9d49-0ba3893b6e9c",
   "metadata": {},
   "source": [
    "# Model analysis"
   ]
  },
  {
   "cell_type": "code",
   "execution_count": null,
   "id": "ba496d8c-074a-46aa-949e-fe02fd60b2ee",
   "metadata": {},
   "outputs": [],
   "source": [
    "del net\n",
    "\n",
    "net = model().to(device)\n",
    "net.load_state_dict(torch.load(here(f\"results/models/{net_name}.pt\")))\n",
    "net.eval()\n",
    "\n",
    "with torch.no_grad():\n",
    "    # training predictions\n",
    "    tr_seqs, tr_rc, tr_expression = next(iter(tr_loader))\n",
    "    tr_pred = net(tr_seqs.to(device), tr_rc.to(device)).cpu()\n",
    "\n",
    "    # validation predictions\n",
    "    val_pred = net(val_seqs.to(device), val_rc.to(device)).cpu()"
   ]
  },
  {
   "cell_type": "code",
   "execution_count": null,
   "id": "0c0aaeb0-6862-457b-a152-49014f3c508c",
   "metadata": {},
   "outputs": [],
   "source": [
    "sns.scatterplot(\n",
    "    x=tr_expression.detach().numpy().flatten(), y=tr_pred.detach().numpy().flatten()\n",
    ").set(title=\"Train predictions\")"
   ]
  },
  {
   "cell_type": "code",
   "execution_count": null,
   "id": "342c785d-78ff-45cc-95a1-14a242c047b8",
   "metadata": {},
   "outputs": [],
   "source": [
    "sns.scatterplot(\n",
    "    x=val_expression.detach().numpy().flatten(), y=val_pred.detach().numpy().flatten()\n",
    ").set(title=\"Validation predictions\")"
   ]
  },
  {
   "cell_type": "code",
   "execution_count": null,
   "id": "4a6c5aba-3753-49d6-9be1-43ca3a1444e0",
   "metadata": {},
   "outputs": [],
   "source": []
  }
 ],
 "metadata": {
  "kernelspec": {
   "display_name": "Python 3 (ipykernel)",
   "language": "python",
   "name": "python3"
  },
  "language_info": {
   "codemirror_mode": {
    "name": "ipython",
    "version": 3
   },
   "file_extension": ".py",
   "mimetype": "text/x-python",
   "name": "python",
   "nbconvert_exporter": "python",
   "pygments_lexer": "ipython3",
   "version": "3.10.4"
  }
 },
 "nbformat": 4,
 "nbformat_minor": 5
}
