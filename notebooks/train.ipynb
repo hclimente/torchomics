{
 "cells": [
  {
   "cell_type": "code",
   "execution_count": null,
   "id": "a085e357-9672-4543-ad71-d463b2d0aba9",
   "metadata": {
    "tags": []
   },
   "outputs": [],
   "source": [
    "import pandas as pd\n",
    "import seaborn as sns\n",
    "from scipy.stats import pearsonr, spearmanr\n",
    "import torch\n",
    "from torch.utils.data import DataLoader\n",
    "from torchvision import transforms\n",
    "from tqdm.notebook import tqdm, trange\n",
    "\n",
    "from data import load, Dream\n",
    "from models import BaselineCNN, SimpleCNN, fix_seeds"
   ]
  },
  {
   "cell_type": "code",
   "execution_count": null,
   "id": "f13c2f7e-e6f7-4349-8fa1-0a2c437f5dd5",
   "metadata": {
    "tags": []
   },
   "outputs": [],
   "source": [
    "n_epochs = 10\n",
    "batch_size = 1024\n",
    "device = torch.device(\"cuda\") if torch.cuda.is_available() else torch.device(\"cpu\")\n",
    "seed = 0\n",
    "\n",
    "tr_cached = \"train_dev.pt\" if device.type == \"cpu\" else \"train.pt\"\n",
    "tr = load(\"train_sequences.txt\", tr_cached, Dream, path=\"../data/dream\")\n",
    "\n",
    "tr_loader = DataLoader(tr, batch_size=batch_size, shuffle=True, drop_last=True)\n",
    "\n",
    "te_cached = \"test_dev.pt\" if device == \"cpu\" else \"test.pt\"\n",
    "te = load(\"test_sequences.txt\", te_cached, Dream, path=\"../data/dream\")"
   ]
  },
  {
   "cell_type": "code",
   "execution_count": null,
   "id": "50842a01-d3c4-4687-b89b-c2eec7a7cb3c",
   "metadata": {
    "tags": []
   },
   "outputs": [],
   "source": [
    "fix_seeds(seed)\n",
    "tr_losses = []\n",
    "te_losses = []\n",
    "\n",
    "net = SimpleCNN().to(device)\n",
    "\n",
    "criterion = torch.nn.MSELoss()\n",
    "optimizer = torch.optim.Adam(net.parameters(), lr=0.001)\n",
    "\n",
    "for epoch in range(n_epochs):\n",
    "    with tqdm(\n",
    "        tr_loader, total=int(len(tr_loader) / batch_size), unit=\"batch\"\n",
    "    ) as tepoch:\n",
    "        for seq, rc, y in tepoch:\n",
    "\n",
    "            net.train()\n",
    "\n",
    "            seq, rc, y = seq.to(device), rc.to(device), y.to(device)\n",
    "\n",
    "            optimizer.zero_grad()\n",
    "            y_pred = net(seq)\n",
    "            tr_loss = criterion(y_pred, y)\n",
    "            tr_loss.backward()\n",
    "            optimizer.step()\n",
    "\n",
    "            tr_losses.append(tr_loss.item())\n",
    "\n",
    "            y = y.cpu().detach().numpy()\n",
    "            y_pred = y_pred.cpu().detach().numpy()\n",
    "\n",
    "            tepoch.set_postfix(\n",
    "                tr_loss=tr_loss.item(),\n",
    "                r=pearsonr(y.flatten(), y_pred.flatten())[0],\n",
    "                rho=spearmanr(y, y_pred)[0],\n",
    "            )\n",
    "\n",
    "        net.eval()\n",
    "\n",
    "        with torch.no_grad():\n",
    "            te_pred = net(te.sequences.to(device)).cpu()\n",
    "            te_loss = criterion(te_pred, te.expression[None, :].T)\n",
    "            te_losses.append(te_loss.item())\n",
    "\n",
    "        net_name = net.__class__.__name__\n",
    "        torch.save(net.state_dict(), f\"../results/models/{net_name}.pt\")\n",
    "        torch.save(\n",
    "            {\"train_loss\": tr_losses, \"val_loss\": te_losses, \"val_pred\": te_pred},\n",
    "            f\"../results/models/{net_name}_stats.pt\",\n",
    "        )"
   ]
  },
  {
   "cell_type": "code",
   "execution_count": null,
   "id": "7875443c-ab65-47e0-adf1-f5834a6a7688",
   "metadata": {
    "tags": []
   },
   "outputs": [],
   "source": [
    "with torch.no_grad():\n",
    "    y_pred = net(tr.sequences[:50000]).cpu().detach().numpy().T[0]\n",
    "y = tr.expression[:50000].detach().numpy().T\n",
    "\n",
    "sns.scatterplot(x=y, y=y_pred)"
   ]
  },
  {
   "cell_type": "code",
   "execution_count": null,
   "id": "065b6453-126c-460c-8aa7-ab165732918f",
   "metadata": {
    "tags": []
   },
   "outputs": [],
   "source": [
    "sns.lineplot([i for i in range(len(tr_losses))], tr_losses)"
   ]
  },
  {
   "cell_type": "code",
   "execution_count": null,
   "id": "80c54c61-9187-4f1c-aacf-bcd36e8faf2b",
   "metadata": {
    "tags": []
   },
   "outputs": [],
   "source": [
    "sns.lineplot([i for i in range(len(te_losses))], te_losses)"
   ]
  },
  {
   "cell_type": "code",
   "execution_count": null,
   "id": "7c57bc66-f92a-4f44-9521-af0f02c21951",
   "metadata": {},
   "outputs": [],
   "source": [
    "torch.Tensor(tr_losses)"
   ]
  },
  {
   "cell_type": "code",
   "execution_count": null,
   "id": "04018e30-9534-4034-a795-5ef573f2de3e",
   "metadata": {},
   "outputs": [],
   "source": []
  }
 ],
 "metadata": {
  "kernelspec": {
   "display_name": "Python 3 (ipykernel)",
   "language": "python",
   "name": "python3"
  },
  "language_info": {
   "codemirror_mode": {
    "name": "ipython",
    "version": 3
   },
   "file_extension": ".py",
   "mimetype": "text/x-python",
   "name": "python",
   "nbconvert_exporter": "python",
   "pygments_lexer": "ipython3",
   "version": "3.10.4"
  }
 },
 "nbformat": 4,
 "nbformat_minor": 5
}
