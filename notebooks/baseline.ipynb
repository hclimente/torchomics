{
 "cells": [
  {
   "cell_type": "code",
   "execution_count": null,
   "id": "a085e357-9672-4543-ad71-d463b2d0aba9",
   "metadata": {
    "tags": []
   },
   "outputs": [],
   "source": [
    "import pandas as pd\n",
    "import seaborn as sns\n",
    "from sklearn.metrics import r2_score\n",
    "import torch\n",
    "from torch.utils.data import DataLoader\n",
    "import torch.nn as nn\n",
    "from torchvision import transforms\n",
    "from tqdm.notebook import tqdm, trange\n",
    "\n",
    "from data import Vaishnav, ReverseComplement\n",
    "from models import OneStrandCNN\n",
    "from models.utils import fix_seeds"
   ]
  },
  {
   "cell_type": "code",
   "execution_count": null,
   "id": "aa6118ea-1e19-4ae7-acba-d0637383057d",
   "metadata": {
    "tags": []
   },
   "outputs": [],
   "source": [
    "class Model(nn.Module):\n",
    "    def __init__(self):\n",
    "        super(Model, self).__init__()\n",
    "        self.conv = nn.Sequential(\n",
    "            nn.Conv1d(4, 16, 5, padding=\"same\"),\n",
    "            nn.ReLU(),\n",
    "            nn.MaxPool1d(2),\n",
    "            nn.Conv1d(16, 32, 5, padding=\"same\"),\n",
    "            nn.ReLU(),\n",
    "            nn.MaxPool1d(2),\n",
    "        )\n",
    "        \n",
    "        self.fc = nn.Sequential(\n",
    "            nn.Linear(640, 256),\n",
    "            nn.ReLU(),\n",
    "            nn.Linear(256, 96),\n",
    "            nn.ReLU(),\n",
    "            nn.Linear(96, 1),\n",
    "        )\n",
    "        \n",
    "    def forward(self, x):\n",
    "        x = self.conv(x)\n",
    "        x = x.view(x.size()[0], -1)\n",
    "        x = self.fc(x)\n",
    "        return x"
   ]
  },
  {
   "cell_type": "code",
   "execution_count": null,
   "id": "f13c2f7e-e6f7-4349-8fa1-0a2c437f5dd5",
   "metadata": {
    "tags": []
   },
   "outputs": [],
   "source": [
    "n_epochs = 20\n",
    "batch_size = 1024\n",
    "device = \"cpu\"\n",
    "tr_losses = []\n",
    "te_losses = []\n",
    "seed = 0\n",
    "\n",
    "fix_seeds(seed)\n",
    "\n",
    "tr = torch.load(\"../data/vaishnav_et_al/defined_train_mini.pt\")\n",
    "tr_loader = DataLoader(tr, batch_size=batch_size, shuffle=True, drop_last=True)\n",
    "te = torch.load(\"../data/vaishnav_et_al/defined_test.pt\")"
   ]
  },
  {
   "cell_type": "code",
   "execution_count": null,
   "id": "50842a01-d3c4-4687-b89b-c2eec7a7cb3c",
   "metadata": {
    "tags": []
   },
   "outputs": [],
   "source": [
    "net = Model().to(device)\n",
    "\n",
    "criterion = torch.nn.MSELoss()\n",
    "optimizer = torch.optim.Adam(net.parameters(), lr=0.0001)\n",
    "\n",
    "for epoch in range(n_epochs):\n",
    "    with tqdm(tr_loader, total=int(len(tr_loader) / batch_size), unit=\"batch\") as tepoch:\n",
    "        for seq, y in tepoch:\n",
    "\n",
    "            net.train()\n",
    "\n",
    "            seq, y = seq.to(device), y.to(device)\n",
    "\n",
    "            optimizer.zero_grad()\n",
    "            y_pred = net(seq)\n",
    "            tr_loss = criterion(y_pred, y)\n",
    "            tr_loss.backward()\n",
    "            optimizer.step()\n",
    "\n",
    "            tr_losses.append(tr_loss.item())\n",
    "\n",
    "            tepoch.set_postfix(tr_loss=tr_loss.item(), \n",
    "                               r2=r2_score(y.detach().numpy(), \n",
    "                                           y_pred.detach().numpy()))\n",
    "            \n",
    "        net.eval()\n",
    "\n",
    "        te_pred = net(te.sequences)\n",
    "        te_loss = criterion(te_pred, te.expression[None,:].T)\n",
    "        te_losses.append(te_loss.item())"
   ]
  },
  {
   "cell_type": "code",
   "execution_count": null,
   "id": "cd8d6374-8a8a-42f5-b620-1f1a4a419188",
   "metadata": {
    "tags": []
   },
   "outputs": [],
   "source": [
    "r2_score(y.detach().numpy(),\n",
    "         y_pred.detach().numpy())"
   ]
  },
  {
   "cell_type": "code",
   "execution_count": null,
   "id": "559780de-295c-4d0d-b509-0eaa68024814",
   "metadata": {
    "tags": []
   },
   "outputs": [],
   "source": [
    "net(te.sequences).detach().numpy().T"
   ]
  },
  {
   "cell_type": "code",
   "execution_count": null,
   "id": "7875443c-ab65-47e0-adf1-f5834a6a7688",
   "metadata": {
    "tags": []
   },
   "outputs": [],
   "source": [
    "y_pred = net(te.sequences).detach().numpy().T[0]\n",
    "y = te.expression.detach().numpy().T\n",
    "\n",
    "sns.scatterplot(x=y, y=y_pred)"
   ]
  },
  {
   "cell_type": "code",
   "execution_count": null,
   "id": "47681dc0-7325-4cb4-b24a-7484b17ac620",
   "metadata": {
    "tags": []
   },
   "outputs": [],
   "source": [
    "r2_score(y, y_pred)"
   ]
  },
  {
   "cell_type": "code",
   "execution_count": null,
   "id": "065b6453-126c-460c-8aa7-ab165732918f",
   "metadata": {
    "tags": []
   },
   "outputs": [],
   "source": [
    "sns.lineplot([i for i in range(len(tr_losses))], tr_losses)"
   ]
  },
  {
   "cell_type": "code",
   "execution_count": null,
   "id": "80c54c61-9187-4f1c-aacf-bcd36e8faf2b",
   "metadata": {
    "tags": []
   },
   "outputs": [],
   "source": [
    "sns.lineplot([i for i in range(len(te_losses))], te_losses)"
   ]
  },
  {
   "cell_type": "code",
   "execution_count": null,
   "id": "c80d4b4c-f4f5-449a-a831-84946deb0c23",
   "metadata": {},
   "outputs": [],
   "source": []
  }
 ],
 "metadata": {
  "kernelspec": {
   "display_name": "Python 3 (ipykernel)",
   "language": "python",
   "name": "python3"
  },
  "language_info": {
   "codemirror_mode": {
    "name": "ipython",
    "version": 3
   },
   "file_extension": ".py",
   "mimetype": "text/x-python",
   "name": "python",
   "nbconvert_exporter": "python",
   "pygments_lexer": "ipython3",
   "version": "3.10.4"
  }
 },
 "nbformat": 4,
 "nbformat_minor": 5
}
